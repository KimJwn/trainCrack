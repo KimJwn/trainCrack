{
 "cells": [
  {
   "cell_type": "code",
   "execution_count": 1,
   "metadata": {},
   "outputs": [],
   "source": [
    "import cv2\n",
    "import pdb\n",
    "import os\n",
    "import argparse as arg\n",
    "import time\n",
    "import numpy as np\n"
   ]
  },
  {
   "cell_type": "code",
   "execution_count": 2,
   "metadata": {},
   "outputs": [],
   "source": [
    "from dis import dis\n",
    "from tqdm import tqdm\n",
    "from importlib.resources import Package\n",
    "from skimage.morphology import medial_axis\n"
   ]
  },
  {
   "cell_type": "code",
   "execution_count": 4,
   "metadata": {},
   "outputs": [
    {
     "name": "stdout",
     "output_type": "stream",
     "text": [
      "function : There is already a table to find crack width. 8\n"
     ]
    }
   ],
   "source": [
    "from function import *\n",
    "import params as pm\n",
    "import table"
   ]
  },
  {
   "cell_type": "code",
   "execution_count": 5,
   "metadata": {},
   "outputs": [],
   "source": [
    "PATH = '/home/jovyan/DragonBall/vision'\n",
    "IMG_PATH = PATH+'/data/'\n",
    "SAVE_DIR = PATH+'/results/'"
   ]
  },
  {
   "cell_type": "code",
   "execution_count": 6,
   "metadata": {},
   "outputs": [],
   "source": [
    "FL = 4.8\n",
    "WD = 0.45\n",
    "SIAH = 14.0\n",
    "SRPH = 9248.0"
   ]
  },
  {
   "cell_type": "code",
   "execution_count": 18,
   "metadata": {},
   "outputs": [
    {
     "name": "stdout",
     "output_type": "stream",
     "text": [
      "1000\n"
     ]
    }
   ],
   "source": [
    "file_name = \"RP_10_1.jpg\"\n",
    "img_name = file_name[:-4]\n",
    "\n",
    "distance = (img_name[-2:]) \n",
    "if distance == '10':\n",
    "    distance = 10 * 1000\n",
    "else :\n",
    "    distance = int(distance[1]) * 1000\n",
    "print(distance)"
   ]
  },
  {
   "cell_type": "code",
   "execution_count": 19,
   "metadata": {},
   "outputs": [
    {
     "name": "stdout",
     "output_type": "stream",
     "text": [
      "SPP(0.39): 0.12936213991769546 ,  HFOV(1572): 523.9166666666666 , PMAG(0.004): 0.012\n"
     ]
    }
   ],
   "source": [
    "lens = pm.Lens(distance)  # type: ignore"
   ]
  },
  {
   "cell_type": "code",
   "execution_count": 23,
   "metadata": {},
   "outputs": [
    {
     "name": "stdout",
     "output_type": "stream",
     "text": [
      "/home/jovyan/DragonBall/vision/data/RP_10_1.jpg /home/jovyan/DragonBall/vision/results/RP_10_1/\n"
     ]
    }
   ],
   "source": [
    "img_path = '{0}{1}'.format(IMG_PATH, file_name)\n",
    "each_save_dir = '{0}{1}/'.format(SAVE_DIR, img_name)\n",
    "print(img_path, each_save_dir)"
   ]
  },
  {
   "cell_type": "code",
   "execution_count": 24,
   "metadata": {},
   "outputs": [],
   "source": [
    "if not os.path.exists(each_save_dir):\n",
    "    os.makedirs(each_save_dir)  # type: ignore\n",
    "    print(\"made directory\")"
   ]
  },
  {
   "cell_type": "code",
   "execution_count": 25,
   "metadata": {},
   "outputs": [
    {
     "data": {
      "text/plain": [
       "True"
      ]
     },
     "execution_count": 25,
     "metadata": {},
     "output_type": "execute_result"
    }
   ],
   "source": [
    "img = cv2.imread(img_path)\n",
    "cv2.imwrite(each_save_dir + '{0}_00_original.jpg'.format(img_name), img)\n",
    "\n",
    "img = cv2.cvtColor(img, cv2.COLOR_BGR2GRAY)\n",
    "cv2.imwrite(each_save_dir + '{0}_01_0_grayscale.jpg'.format(img_name), img)\n",
    "\n",
    "#2. closing 연산 적용하기 : 검은 색 노이즈 제거\n",
    "img = closing_func(img)\n",
    "cv2.imwrite(each_save_dir + '{0}_02_0_closing.jpg'.format(img_name), img)\n",
    "\n",
    "#3-1. 가우시안 블러 적용 기존 : (7,7) -> (3,3)\n",
    "filter_size = 5\n",
    "img = cv2.GaussianBlur(img, (filter_size, filter_size), 0)\n",
    "\n",
    "#3-2 오츄 알고리즘 적용 : 임계값 T로 이진화\n",
    "img = otsu_func(img)\n",
    "cv2.imwrite(each_save_dir + '{0}_03_0_otsu.jpg'.format(img_name), img)\n",
    "\n",
    "# img = erode_func(img)\n",
    "# cv2.imwrite(each_save_dir + '{0}_03_1_erode.jpg'.format(img_name), img)\n",
    "\n",
    "#4. 자잘한 노이즈 제거\n",
    "img = noise_reduction_func(img, threshold=230)\n",
    "img[0, :] = img[-1, :] = img[:, 0] = img[:, -1] = 0\n",
    "cv2.imwrite(each_save_dir + '{0}_04_0_noise.jpg'.format(img_name), img)\n",
    "\n",
    "#5. 큰 덩어리의 노이즈 제거\n",
    "img = circle_noise_removal_using_packing_density_func(img)\n",
    "cv2.imwrite(each_save_dir + '{0}_05_circle_noise_.jpg'.format(img_name), img)\n",
    "\n"
   ]
  },
  {
   "cell_type": "code",
   "execution_count": 26,
   "metadata": {},
   "outputs": [
    {
     "name": "stderr",
     "output_type": "stream",
     "text": [
      "100%|██████████| 716/716 [00:00<00:00, 1555.95it/s]\n"
     ]
    },
    {
     "data": {
      "text/plain": [
       "True"
      ]
     },
     "execution_count": 26,
     "metadata": {},
     "output_type": "execute_result"
    }
   ],
   "source": [
    "\n",
    "#6. 세선화 과정\n",
    "img_thinned = thinning_func(img)\n",
    "\n",
    "#7-1. 분기점(특징점)을 주변 색의 편차를 보고 찾음\n",
    "start_interval_point_direction_key_list = search_start_interval_point_direction_key(img_thinned)\n",
    "# print(\"+++++++++++++\",start_interval_point_direction_key_list[0:5])\n",
    "\n",
    "#7-2. 특징점을 탐색하여, 선분 세그먼트의 시작점부터 끝점을 찾음\n",
    "total_segment_list, total_chain_list = search_edge_segment(img_thinned, start_interval_point_direction_key_list)\n",
    "\n",
    "#7-3. 선분 세그먼트의 시작점부터 끝점까지의 길이를 진행한 방향을 통해 계산\n",
    "total_length_list = crack_length_func(total_chain_list)\n",
    "#img = img_thinned\n",
    "\n",
    "#7-4. 균열 선분 이미지에 분기점 시각화하기\n",
    "color = pm.Color()\n",
    "img_thinBGR = cv2.cvtColor(img_thinned, cv2.COLOR_GRAY2BGR)\n",
    "img_length_interval_point = color.display_crack_color(img_thinBGR, total_segment_list, total_length_list, mode='interval_point')\n",
    "cv2.imwrite(each_save_dir + '{0}_7_img_length_interval_point.jpg'.format(img_name), img_length_interval_point)\n"
   ]
  },
  {
   "cell_type": "code",
   "execution_count": 34,
   "metadata": {},
   "outputs": [
    {
     "name": "stdout",
     "output_type": "stream",
     "text": [
      "Dd\n",
      "357 357 357\n"
     ]
    },
    {
     "data": {
      "text/plain": [
       "True"
      ]
     },
     "execution_count": 34,
     "metadata": {},
     "output_type": "execute_result"
    }
   ],
   "source": [
    "from function import *\n",
    "class Color:\n",
    "    def __init__(self):\n",
    "        (minN, midN, maxN) = (0, 150, 255)\n",
    "        self.WIDEST_COLOR_G = [maxN, minN, maxN] #Red########333333333333333333333333333[minN, maxN, minN] #Green\n",
    "        self.WIDER_COLOR_Y  = [midN, midN, maxN] #Yellow##########3333333333333333333333\n",
    "        self.NORMAL_COLOR_R = [midN, midN, midN] #Gray[midN, minN, maxN] #Red########333333333333333333333333333\n",
    "        self.LOWER_COLOR_B  = [maxN, minN, minN] #Blue\n",
    "        self.LOWEST_COLOR_G = [midN, midN, midN] #Gray\n",
    "        self.ZERO_COLOR_B = [minN, minN, minN] #Gray\n",
    "        self.first_lowest = self.second = self.third = self.fourth_highest = 0\n",
    "\n",
    "    def dividing_3(self, total_LoW_list, mode='width'):\n",
    "        if mode == 'width':\n",
    "            sorted_set_list = list(set.union(*map(set, total_LoW_list)))\n",
    "        else:     \n",
    "            sorted_set_list = list(set(total_LoW_list).union())\n",
    "\n",
    "        num_divided_by_3 = round(len(sorted_set_list) / 3)\n",
    "        # print(len(sorted_set_list),sorted_set_list)\n",
    "        num_4th_highest = sorted_set_list[-1]\n",
    "        num_3th = sorted_set_list[-1 * num_divided_by_3]\n",
    "        num_2nd = sorted_set_list[-2 * num_divided_by_3]\n",
    "        num_1st_lowest = sorted_set_list[0]\n",
    "\n",
    "        return num_1st_lowest, num_2nd, num_3th, num_4th_highest\n",
    "\n",
    "    def display_crack_color(self, img_thin, segment_list, pixel_list, mode='width', direction_key_list=[[0,0, 'O']]):\n",
    "        \n",
    "        if mode == 'interval_point':\n",
    "            for i, j, _ in direction_key_list:\n",
    "                cv2.circle(img_thin, (j, i), 10, (0, 255, 0), thickness=3)\n",
    "        \n",
    "        num_1st_lowest, num_2nd, num_3th, num_4th_highest = self.dividing_3(total_LoW_list=pixel_list, mode=mode)\n",
    "        #num_1st_lowest, num_2nd, num_3th, num_4th_highest = (0, 4, 5, 60)\n",
    "\n",
    "        total_segment_zip = zip(segment_list, pixel_list)\n",
    "\n",
    "        for segment_block, crack in total_segment_zip:\n",
    "            if mode == 'width':\n",
    "                each_segment_block = zip(segment_block, crack)\n",
    "                for [row, col], crack_width in each_segment_block:\n",
    "                    if num_1st_lowest <= crack_width < num_2nd:\n",
    "                        img_thin[row, col] = self.NORMAL_COLOR_R\n",
    "                    elif num_2nd <= crack_width < num_3th:\n",
    "                        img_thin[row, col] = self.WIDER_COLOR_Y\n",
    "                    elif num_3th <= crack_width <= num_4th_highest:\n",
    "                        img_thin[row, col] = self.WIDEST_COLOR_G\n",
    "            else :\n",
    "                for [row, col] in segment_block:\n",
    "                    if num_1st_lowest <= crack < num_2nd:\n",
    "                        img_thin[row, col] = self.NORMAL_COLOR_R\n",
    "                    elif num_2nd <= crack < num_3th:\n",
    "                        img_thin[row, col] = self.WIDER_COLOR_Y\n",
    "                    elif num_3th <= crack <= num_4th_highest:\n",
    "                        img_thin[row, col] = self.WIDEST_COLOR_G\n",
    "\n",
    "        return img_thin\n",
    "'''    def fill_crack_color_width(self, img, chain_block, pixel_list):\n",
    " \n",
    "        num_1st_lowest, num_2nd, num_3th, num_4th_highest = (0, 4, 5, 60)\n",
    "        total_segment_zip = zip(chain_block, pixel_list)\n",
    "\n",
    "        for chain_block, crack in total_segment_zip:\n",
    "            each_segment_block = zip(chain_block, crack)\n",
    "            for [row, col], crack_width in each_segment_block:\n",
    "                if num_1st_lowest <= crack_width < num_2nd:\n",
    "                    match_color = self.NORMAL_COLOR_R\n",
    "                elif num_2nd <= crack_width < num_3th:\n",
    "                    match_color = self.WIDER_COLOR_Y\n",
    "                elif num_3th <= crack_width <= num_4th_highest:\n",
    "                    match_color = self.WIDEST_COLOR_G\n",
    "                else : match_color = self.LOWEST_COLOR_G\n",
    "                    \n",
    "                img[row, col] = match_color\n",
    "\n",
    "        return img'''\n",
    "\n",
    "color = Color()\n",
    "\n",
    "# 추가된 너비 측정 방식 0 - new one\n",
    "def renewal_profiling_crack_width_func(img, img_th, total_segment_list, total_chain_list):\n",
    "    total_width_list = []\n",
    "    print(\"Dd\")\n",
    "    for j in range(len(total_chain_list)):\n",
    "        segment_block = total_chain_list[j]\n",
    "        center_pixel_block = total_segment_list[j]\n",
    "        segment_width_block = []\n",
    "        for i in range(0, len(segment_block)):\n",
    "            start = center_pixel_block[i]\n",
    "            if i == 0 : direc = segment_block[1]\n",
    "            else :      direc = segment_block[i]\n",
    "            # left : 진행 방향 기준 왼쪽 수직 방향 \n",
    "            left_width  = finding_white_until_black(img, img_th, start, direc, LorR=0)\n",
    "            # right : 진행 방향 기준 오른쪽 수직 방향 \n",
    "            right_width = finding_white_until_black(img, img_th, start, direc, LorR=1)\n",
    "            \n",
    "            segment_width_block.append(left_width+right_width)\n",
    "            \n",
    "        #\n",
    "        total_width_list.append(segment_width_block)\n",
    "    #\n",
    "    return total_width_list, img\n",
    "\n",
    "width_func = 'profiling _1'\n",
    "#        8. 선분의 너비를 구하기 위한 함수\n",
    "#        8-1. 폭을 계산한 리스트 만들기(모든 균열 포인트마다)\n",
    "#        default : adaptive\n",
    "#        usable width func : normal, adaptive, profiling_1 profiling_2\n",
    "if width_func == 'adaptive':\n",
    "    total_width_list = adaptive_crack_width_func(img, total_segment_list)\n",
    "elif width_func == 'normal':\n",
    "    total_width_list = normal_crack_width_func(img, total_segment_list, radius=7)\n",
    "elif width_func == 'profiling_1':\n",
    "    total_width_list, img_pro = profiling_crack_width_func(img, img_thinned, total_segment_list, total_chain_list)\n",
    "else :\n",
    "    total_width_list, img_pro = renewal_profiling_crack_width_func(img, img_thinned, total_segment_list, total_chain_list)\n",
    "\n",
    "print(len(total_segment_list), len(total_chain_list), len(total_width_list))\n",
    "\n",
    "for i in range(len(total_segment_list)):\n",
    "    if len(total_segment_list[i]) != len(total_width_list[i]):\n",
    "        print(len(total_chain_list[i]), len(total_width_list[i]))\n",
    "        print((total_segment_list[i]), total_chain_list[i], (total_width_list[i]))\n",
    "        break\n",
    "\n",
    "\n",
    "#        8-2. 균열 선분 이미지에 폭을 색상으로 시각화하기\n",
    "img_width = color.display_crack_color(img_thin=img_thinBGR, segment_list=total_segment_list, pixel_list=total_width_list, mode='width')\n",
    "cv2.imwrite(each_save_dir + '{0}_8_mask_width_visualization.jpg'.format(img_name), img_width)\n"
   ]
  },
  {
   "cell_type": "code",
   "execution_count": 33,
   "metadata": {},
   "outputs": [
    {
     "data": {
      "text/plain": [
       "True"
      ]
     },
     "execution_count": 33,
     "metadata": {},
     "output_type": "execute_result"
    }
   ],
   "source": [
    "#        8-2. 균열 이미지에 폭을 색상으로 시각화하기\n",
    "img_width = fill_crack_width_func(img=img, img_th=img_thinned, total_segment_list=total_segment_list, total_chain_list=total_chain_list, total_width_list=total_width_list)\n",
    "cv2.imwrite(each_save_dir + '{0}_9_full_width_visualization.jpg'.format(img_name), img_width)"
   ]
  }
 ],
 "metadata": {
  "kernelspec": {
   "display_name": "torch1.10.0-py3.8-cuda11.3",
   "language": "python",
   "name": "python3"
  },
  "language_info": {
   "codemirror_mode": {
    "name": "ipython",
    "version": 3
   },
   "file_extension": ".py",
   "mimetype": "text/x-python",
   "name": "python",
   "nbconvert_exporter": "python",
   "pygments_lexer": "ipython3",
   "version": "3.8.10 (default, Nov 26 2021, 20:14:08) \n[GCC 9.3.0]"
  },
  "orig_nbformat": 4,
  "vscode": {
   "interpreter": {
    "hash": "cf2200ddf320781e4b9e904cef4e7561babc6526e923f344c445aa8c9727ae72"
   }
  }
 },
 "nbformat": 4,
 "nbformat_minor": 2
}
