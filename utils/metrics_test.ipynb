{
 "cells": [
  {
   "cell_type": "code",
   "execution_count": 1,
   "metadata": {},
   "outputs": [],
   "source": [
    "from torchmetrics import JaccardIndex\n",
    "import torch"
   ]
  },
  {
   "cell_type": "code",
   "execution_count": 2,
   "metadata": {},
   "outputs": [
    {
     "name": "stderr",
     "output_type": "stream",
     "text": [
      "/tmp/ipykernel_1135339/281148576.py:2: UserWarning: To copy construct from a tensor, it is recommended to use sourceTensor.clone().detach() or sourceTensor.clone().detach().requires_grad_(True), rather than torch.tensor(sourceTensor).\n",
      "  pred = torch.tensor(target)\n"
     ]
    }
   ],
   "source": [
    "target = torch.randint(0, 2, (10, 25, 25))\n",
    "pred = torch.tensor(target)"
   ]
  },
  {
   "cell_type": "code",
   "execution_count": 3,
   "metadata": {},
   "outputs": [
    {
     "data": {
      "text/plain": [
       "tensor([[[1, 1, 1,  ..., 1, 0, 0],\n",
       "         [1, 0, 1,  ..., 1, 0, 1],\n",
       "         [1, 0, 1,  ..., 1, 1, 0],\n",
       "         ...,\n",
       "         [0, 0, 0,  ..., 0, 0, 0],\n",
       "         [0, 0, 0,  ..., 0, 1, 0],\n",
       "         [1, 1, 1,  ..., 1, 1, 1]],\n",
       "\n",
       "        [[1, 1, 1,  ..., 1, 1, 1],\n",
       "         [0, 0, 0,  ..., 0, 0, 0],\n",
       "         [0, 1, 0,  ..., 1, 0, 0],\n",
       "         ...,\n",
       "         [1, 1, 0,  ..., 0, 1, 0],\n",
       "         [1, 1, 0,  ..., 0, 1, 0],\n",
       "         [0, 0, 0,  ..., 1, 0, 0]],\n",
       "\n",
       "        [[0, 1, 0,  ..., 1, 0, 0],\n",
       "         [1, 1, 1,  ..., 1, 0, 0],\n",
       "         [0, 0, 1,  ..., 1, 1, 0],\n",
       "         ...,\n",
       "         [0, 1, 0,  ..., 0, 0, 1],\n",
       "         [0, 1, 0,  ..., 0, 0, 0],\n",
       "         [1, 0, 1,  ..., 1, 0, 1]],\n",
       "\n",
       "        ...,\n",
       "\n",
       "        [[1, 1, 0,  ..., 0, 1, 0],\n",
       "         [1, 0, 1,  ..., 1, 1, 0],\n",
       "         [0, 0, 0,  ..., 1, 0, 0],\n",
       "         ...,\n",
       "         [1, 0, 1,  ..., 0, 1, 0],\n",
       "         [0, 0, 1,  ..., 0, 1, 0],\n",
       "         [1, 0, 0,  ..., 0, 0, 1]],\n",
       "\n",
       "        [[0, 0, 1,  ..., 1, 1, 0],\n",
       "         [0, 0, 1,  ..., 0, 1, 0],\n",
       "         [0, 1, 1,  ..., 0, 1, 1],\n",
       "         ...,\n",
       "         [1, 1, 0,  ..., 0, 0, 0],\n",
       "         [1, 0, 0,  ..., 1, 0, 1],\n",
       "         [1, 0, 0,  ..., 1, 1, 1]],\n",
       "\n",
       "        [[1, 1, 1,  ..., 1, 0, 1],\n",
       "         [1, 1, 1,  ..., 0, 1, 1],\n",
       "         [1, 0, 1,  ..., 1, 1, 1],\n",
       "         ...,\n",
       "         [0, 1, 0,  ..., 0, 0, 1],\n",
       "         [0, 0, 0,  ..., 1, 0, 1],\n",
       "         [1, 0, 0,  ..., 1, 0, 1]]])"
      ]
     },
     "execution_count": 3,
     "metadata": {},
     "output_type": "execute_result"
    }
   ],
   "source": [
    "target"
   ]
  },
  {
   "cell_type": "code",
   "execution_count": 4,
   "metadata": {},
   "outputs": [
    {
     "data": {
      "text/plain": [
       "torch.Size([10, 25, 25])"
      ]
     },
     "execution_count": 4,
     "metadata": {},
     "output_type": "execute_result"
    }
   ],
   "source": [
    "target.shape"
   ]
  },
  {
   "cell_type": "code",
   "execution_count": 5,
   "metadata": {},
   "outputs": [
    {
     "data": {
      "text/plain": [
       "tensor(0.9660)"
      ]
     },
     "execution_count": 5,
     "metadata": {},
     "output_type": "execute_result"
    }
   ],
   "source": [
    "pred[2:5, 7:13, 9:15] = 1 - pred[2:5, 7:13, 9:15]\n",
    "jaccard = JaccardIndex(num_classes=2)\n",
    "jaccard(pred, target)"
   ]
  },
  {
   "cell_type": "code",
   "execution_count": 6,
   "metadata": {},
   "outputs": [],
   "source": [
    "SMOOTH = 1e-6"
   ]
  },
  {
   "cell_type": "code",
   "execution_count": 15,
   "metadata": {},
   "outputs": [],
   "source": [
    "def torch_metrics(predict: torch.Tensor, gt: torch.Tensor):\n",
    "\t# predict = predict.squeeze(1)\n",
    "\tintersection = (predict & gt).float().sum((1,2)) # 한쪽이 0이면 0\n",
    "\tprint(intersection)\n",
    "\tunion = (predict | gt).float().sum((1,2)) # 양쪽다 0 이면 0\n",
    "\tprint(union)\n",
    "\tiou = (intersection + SMOOTH) / (union + SMOOTH)\n",
    "\tprint(iou)\n",
    "\tthreshold = torch.clamp(20 * (iou - 0.5), 0, 10).ceil() / 10 #0.5와 비교\n",
    "\tprint(threshold)\n",
    "\treturn iou.mean()"
   ]
  },
  {
   "cell_type": "code",
   "execution_count": 16,
   "metadata": {},
   "outputs": [
    {
     "name": "stdout",
     "output_type": "stream",
     "text": [
      "tensor([309., 296., 286., 304., 293., 325., 301., 314., 334., 315.])\n",
      "tensor([309., 296., 322., 340., 329., 325., 301., 314., 334., 315.])\n",
      "tensor([1.0000, 1.0000, 0.8882, 0.8941, 0.8906, 1.0000, 1.0000, 1.0000, 1.0000,\n",
      "        1.0000])\n",
      "tensor([1.0000, 1.0000, 0.8000, 0.8000, 0.8000, 1.0000, 1.0000, 1.0000, 1.0000,\n",
      "        1.0000])\n"
     ]
    },
    {
     "data": {
      "text/plain": [
       "tensor(0.9673)"
      ]
     },
     "execution_count": 16,
     "metadata": {},
     "output_type": "execute_result"
    }
   ],
   "source": [
    "torch_metrics(pred, target)"
   ]
  },
  {
   "cell_type": "code",
   "execution_count": 62,
   "metadata": {},
   "outputs": [],
   "source": [
    "def torch_dice(predict: torch.Tensor, gt: torch.Tensor):\n",
    "\t# predict = predict.squeeze(1)\n",
    "\t# gt = gt.squeeze(1)\n",
    "\tintersection = (predict & gt).float().sum((1,2)) # 한쪽이 0이면 0\n",
    "\tdice = (2*intersection + SMOOTH) / (predict.sum((1,2)) + gt.sum((1,2)) + SMOOTH)\n",
    "\t# print(dice)\n",
    "\t# threshold = torch.clamp(20 * (dice - 0.5), 0, 10).ceil() / 10 #0.5와 비교\n",
    "\t# print(threshold)\n",
    "\treturn dice.mean()"
   ]
  },
  {
   "cell_type": "code",
   "execution_count": 63,
   "metadata": {},
   "outputs": [
    {
     "data": {
      "text/plain": [
       "tensor(0.9823)"
      ]
     },
     "execution_count": 63,
     "metadata": {},
     "output_type": "execute_result"
    }
   ],
   "source": [
    "torch_dice(pred, target)"
   ]
  },
  {
   "cell_type": "code",
   "execution_count": 58,
   "metadata": {},
   "outputs": [],
   "source": [
    "def dice(pred, gt):\n",
    "\tpred = torch.sigmoid(pred)\n",
    "\tintersection = (pred * target).sum(dim=(1,2))\n",
    "\tunion = pred.sum(dim=(1,2)) + target.sum(dim=(1,2))\n",
    "\tdice = 2.0 * (intersection + SMOOTH) / (union + SMOOTH)\n",
    "\treturn dice.mean()"
   ]
  },
  {
   "cell_type": "code",
   "execution_count": 61,
   "metadata": {},
   "outputs": [
    {
     "data": {
      "text/plain": [
       "tensor(0.6503)"
      ]
     },
     "execution_count": 61,
     "metadata": {},
     "output_type": "execute_result"
    }
   ],
   "source": [
    "dice(pred, target)"
   ]
  },
  {
   "cell_type": "code",
   "execution_count": 60,
   "metadata": {},
   "outputs": [],
   "source": [
    "def dice(pred, gt):\n",
    "\tpred = torch.sigmoid(pred)\n",
    "\tintersection = (pred * target).sum(dim=(1,2))\n",
    "\tunion = pred.sum(dim=(1,2)) + target.sum(dim=(1,2))\n",
    "\tdice = 2.0 * (torch.sum(intersection) + SMOOTH) / (torch.sum(union) + SMOOTH)\n",
    "\treturn dice"
   ]
  },
  {
   "cell_type": "code",
   "execution_count": 52,
   "metadata": {},
   "outputs": [],
   "source": [
    "def np_iou(predict, target):\n",
    "\tintersection = torch.logical_and(target, predict)\n",
    "\tunion = torch.logical_or(target, predict)\n",
    "\treturn torch.sum(intersection) / torch.sum(union)"
   ]
  },
  {
   "cell_type": "code",
   "execution_count": 80,
   "metadata": {},
   "outputs": [],
   "source": [
    "def torch_dice(pred, gt):\n",
    "\tintersection = torch.sum(torch.logical_and(pred, gt))\n",
    "\tunion = torch.sum(pred) + torch.sum(gt)\n",
    "\tdice = 2.0 * (intersection + SMOOTH) / (union + SMOOTH)\n",
    "\treturn dice"
   ]
  },
  {
   "cell_type": "code",
   "execution_count": 82,
   "metadata": {},
   "outputs": [
    {
     "data": {
      "text/plain": [
       "tensor(0.6503)"
      ]
     },
     "execution_count": 82,
     "metadata": {},
     "output_type": "execute_result"
    }
   ],
   "source": [
    "dice(pred, target)"
   ]
  }
 ],
 "metadata": {
  "kernelspec": {
   "display_name": "Python 3.8.10 ('torch1.10.0-py3.8-cuda11.3': venv)",
   "language": "python",
   "name": "python3"
  },
  "language_info": {
   "codemirror_mode": {
    "name": "ipython",
    "version": 3
   },
   "file_extension": ".py",
   "mimetype": "text/x-python",
   "name": "python",
   "nbconvert_exporter": "python",
   "pygments_lexer": "ipython3",
   "version": "3.8.10"
  },
  "orig_nbformat": 4,
  "vscode": {
   "interpreter": {
    "hash": "cf2200ddf320781e4b9e904cef4e7561babc6526e923f344c445aa8c9727ae72"
   }
  }
 },
 "nbformat": 4,
 "nbformat_minor": 2
}
